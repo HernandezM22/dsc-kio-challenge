{
 "cells": [
  {
   "cell_type": "code",
   "execution_count": 128,
   "metadata": {},
   "outputs": [],
   "source": [
    "import pandas as pd\n",
    "import numpy as np\n",
    "import seaborn as sns\n",
    "import matplotlib.pyplot as plt\n",
    "import polars as pl\n",
    "import streamlit as st\n",
    "import json\n",
    "import ast\n",
    "import datetime as dt"
   ]
  },
  {
   "attachments": {},
   "cell_type": "markdown",
   "metadata": {},
   "source": [
    "# Polars EDA"
   ]
  },
  {
   "cell_type": "code",
   "execution_count": 111,
   "metadata": {},
   "outputs": [],
   "source": [
    "df = pl.read_csv('../../metricbeabt-so-28042023.csv')"
   ]
  },
  {
   "cell_type": "code",
   "execution_count": 3,
   "metadata": {},
   "outputs": [],
   "source": [
    "events = df['event'].unique()"
   ]
  },
  {
   "cell_type": "code",
   "execution_count": 4,
   "metadata": {},
   "outputs": [
    {
     "data": {
      "text/html": [
       "<div><style>\n",
       ".dataframe > thead > tr > th,\n",
       ".dataframe > tbody > tr > td {\n",
       "  text-align: right;\n",
       "}\n",
       "</style>\n",
       "<small>shape: (7_987_581, 5)</small><table border=\"1\" class=\"dataframe\"><thead><tr><th>@timestamp</th><th>@version</th><th>event</th><th>host</th><th>system</th></tr><tr><td>str</td><td>i64</td><td>str</td><td>str</td><td>str</td></tr></thead><tbody><tr><td>&quot;2023-03-13T07:…</td><td>1</td><td>&quot;{&#x27;dataset&#x27;: &#x27;s…</td><td>&quot;{&#x27;name&#x27;: &#x27;QASE…</td><td>&quot;{&#x27;cpu&#x27;: {&#x27;core…</td></tr><tr><td>&quot;2023-03-13T07:…</td><td>1</td><td>&quot;{&#x27;dataset&#x27;: &#x27;s…</td><td>&quot;{&#x27;name&#x27;: &#x27;QASE…</td><td>&quot;{&#x27;cpu&#x27;: {&#x27;core…</td></tr><tr><td>&quot;2023-03-13T08:…</td><td>1</td><td>&quot;{&#x27;dataset&#x27;: &#x27;s…</td><td>&quot;{&#x27;name&#x27;: &#x27;QASE…</td><td>&quot;{&#x27;cpu&#x27;: {&#x27;core…</td></tr><tr><td>&quot;2023-03-13T07:…</td><td>1</td><td>&quot;{&#x27;dataset&#x27;: &#x27;s…</td><td>&quot;{&#x27;name&#x27;: &#x27;QASE…</td><td>&quot;{&#x27;cpu&#x27;: {&#x27;core…</td></tr><tr><td>&quot;2023-03-13T10:…</td><td>1</td><td>&quot;{&#x27;dataset&#x27;: &#x27;s…</td><td>&quot;{&#x27;name&#x27;: &#x27;QASE…</td><td>&quot;{&#x27;cpu&#x27;: {&#x27;core…</td></tr><tr><td>&quot;2023-03-13T07:…</td><td>1</td><td>&quot;{&#x27;dataset&#x27;: &#x27;s…</td><td>&quot;{&#x27;name&#x27;: &#x27;QASE…</td><td>&quot;{&#x27;cpu&#x27;: {&#x27;core…</td></tr><tr><td>&quot;2023-03-13T07:…</td><td>1</td><td>&quot;{&#x27;dataset&#x27;: &#x27;s…</td><td>&quot;{&#x27;name&#x27;: &#x27;QASE…</td><td>&quot;{&#x27;cpu&#x27;: {&#x27;core…</td></tr><tr><td>&quot;2023-03-13T10:…</td><td>1</td><td>&quot;{&#x27;dataset&#x27;: &#x27;s…</td><td>&quot;{&#x27;name&#x27;: &#x27;QASE…</td><td>&quot;{&#x27;cpu&#x27;: {&#x27;core…</td></tr><tr><td>&quot;2023-03-13T10:…</td><td>1</td><td>&quot;{&#x27;dataset&#x27;: &#x27;s…</td><td>&quot;{&#x27;name&#x27;: &#x27;QASE…</td><td>&quot;{&#x27;cpu&#x27;: {&#x27;core…</td></tr><tr><td>&quot;2023-03-13T10:…</td><td>1</td><td>&quot;{&#x27;dataset&#x27;: &#x27;s…</td><td>&quot;{&#x27;name&#x27;: &#x27;QASE…</td><td>&quot;{&#x27;cpu&#x27;: {&#x27;core…</td></tr><tr><td>&quot;2023-03-13T10:…</td><td>1</td><td>&quot;{&#x27;dataset&#x27;: &#x27;s…</td><td>&quot;{&#x27;name&#x27;: &#x27;QASE…</td><td>&quot;{&#x27;cpu&#x27;: {&#x27;core…</td></tr><tr><td>&quot;2023-03-13T14:…</td><td>1</td><td>&quot;{&#x27;dataset&#x27;: &#x27;s…</td><td>&quot;{&#x27;name&#x27;: &#x27;QASE…</td><td>&quot;{&#x27;cpu&#x27;: {&#x27;core…</td></tr><tr><td>&hellip;</td><td>&hellip;</td><td>&hellip;</td><td>&hellip;</td><td>&hellip;</td></tr><tr><td>&quot;2023-03-08T06:…</td><td>1</td><td>&quot;{&#x27;dataset&#x27;: &#x27;s…</td><td>&quot;{&#x27;name&#x27;: &#x27;PRUE…</td><td>&quot;{&#x27;network&#x27;: {&#x27;…</td></tr><tr><td>&quot;2023-03-08T06:…</td><td>1</td><td>&quot;{&#x27;dataset&#x27;: &#x27;s…</td><td>&quot;{&#x27;name&#x27;: &#x27;PRUE…</td><td>&quot;{&#x27;network&#x27;: {&#x27;…</td></tr><tr><td>&quot;2023-03-08T06:…</td><td>1</td><td>&quot;{&#x27;dataset&#x27;: &#x27;s…</td><td>&quot;{&#x27;name&#x27;: &#x27;PRUE…</td><td>&quot;{&#x27;network&#x27;: {&#x27;…</td></tr><tr><td>&quot;2023-03-08T06:…</td><td>1</td><td>&quot;{&#x27;dataset&#x27;: &#x27;s…</td><td>&quot;{&#x27;name&#x27;: &#x27;PRUE…</td><td>&quot;{&#x27;network&#x27;: {&#x27;…</td></tr><tr><td>&quot;2023-03-08T06:…</td><td>1</td><td>&quot;{&#x27;dataset&#x27;: &#x27;s…</td><td>&quot;{&#x27;name&#x27;: &#x27;PRUE…</td><td>&quot;{&#x27;network&#x27;: {&#x27;…</td></tr><tr><td>&quot;2023-03-08T06:…</td><td>1</td><td>&quot;{&#x27;dataset&#x27;: &#x27;s…</td><td>&quot;{&#x27;name&#x27;: &#x27;PRUE…</td><td>&quot;{&#x27;network&#x27;: {&#x27;…</td></tr><tr><td>&quot;2023-03-08T06:…</td><td>1</td><td>&quot;{&#x27;dataset&#x27;: &#x27;s…</td><td>&quot;{&#x27;name&#x27;: &#x27;PRUE…</td><td>&quot;{&#x27;network&#x27;: {&#x27;…</td></tr><tr><td>&quot;2023-03-08T06:…</td><td>1</td><td>&quot;{&#x27;dataset&#x27;: &#x27;s…</td><td>&quot;{&#x27;name&#x27;: &#x27;PRUE…</td><td>&quot;{&#x27;network&#x27;: {&#x27;…</td></tr><tr><td>&quot;2023-03-08T06:…</td><td>1</td><td>&quot;{&#x27;dataset&#x27;: &#x27;s…</td><td>&quot;{&#x27;name&#x27;: &#x27;PRUE…</td><td>null</td></tr><tr><td>&quot;2023-03-08T06:…</td><td>1</td><td>&quot;{&#x27;dataset&#x27;: &#x27;s…</td><td>&quot;{&#x27;name&#x27;: &#x27;PRUE…</td><td>&quot;{&#x27;network&#x27;: {&#x27;…</td></tr><tr><td>&quot;2023-03-08T06:…</td><td>1</td><td>&quot;{&#x27;dataset&#x27;: &#x27;s…</td><td>&quot;{&#x27;name&#x27;: &#x27;PRUE…</td><td>&quot;{&#x27;network&#x27;: {&#x27;…</td></tr><tr><td>&quot;2023-03-08T06:…</td><td>1</td><td>&quot;{&#x27;dataset&#x27;: &#x27;s…</td><td>&quot;{&#x27;name&#x27;: &#x27;PRUE…</td><td>&quot;{&#x27;network&#x27;: {&#x27;…</td></tr></tbody></table></div>"
      ],
      "text/plain": [
       "shape: (7_987_581, 5)\n",
       "┌─────────────────────┬──────────┬─────────────────────┬─────────────────────┬─────────────────────┐\n",
       "│ @timestamp          ┆ @version ┆ event               ┆ host                ┆ system              │\n",
       "│ ---                 ┆ ---      ┆ ---                 ┆ ---                 ┆ ---                 │\n",
       "│ str                 ┆ i64      ┆ str                 ┆ str                 ┆ str                 │\n",
       "╞═════════════════════╪══════════╪═════════════════════╪═════════════════════╪═════════════════════╡\n",
       "│ 2023-03-13T07:04:31 ┆ 1        ┆ {'dataset':         ┆ {'name':            ┆ {'cpu': {'cores':   │\n",
       "│ .079Z               ┆          ┆ 'system.cpu'}       ┆ 'QASERVER'}         ┆ 4, 'idle': {'p…     │\n",
       "│ 2023-03-13T07:13:31 ┆ 1        ┆ {'dataset':         ┆ {'name':            ┆ {'cpu': {'cores':   │\n",
       "│ .085Z               ┆          ┆ 'system.cpu'}       ┆ 'QASERVER'}         ┆ 4, 'idle': {'p…     │\n",
       "│ 2023-03-13T08:16:41 ┆ 1        ┆ {'dataset':         ┆ {'name':            ┆ {'cpu': {'cores':   │\n",
       "│ .112Z               ┆          ┆ 'system.cpu'}       ┆ 'QASERVER'}         ┆ 4, 'idle': {'p…     │\n",
       "│ 2023-03-13T07:57:51 ┆ 1        ┆ {'dataset':         ┆ {'name':            ┆ {'cpu': {'cores':   │\n",
       "│ .111Z               ┆          ┆ 'system.cpu'}       ┆ 'QASERVER'}         ┆ 4, 'idle': {'p…     │\n",
       "│ …                   ┆ …        ┆ …                   ┆ …                   ┆ …                   │\n",
       "│ 2023-03-08T06:24:29 ┆ 1        ┆ {'dataset':         ┆ {'name': 'PRUEBAS'} ┆ null                │\n",
       "│ .991Z               ┆          ┆ 'system.network'}   ┆                     ┆                     │\n",
       "│ 2023-03-08T06:24:29 ┆ 1        ┆ {'dataset':         ┆ {'name': 'PRUEBAS'} ┆ {'network': {'out': │\n",
       "│ .991Z               ┆          ┆ 'system.network'}   ┆                     ┆ {'bytes': 45…       │\n",
       "│ 2023-03-08T06:27:49 ┆ 1        ┆ {'dataset':         ┆ {'name': 'PRUEBAS'} ┆ {'network': {'out': │\n",
       "│ .991Z               ┆          ┆ 'system.network'}   ┆                     ┆ {'bytes': 0}…       │\n",
       "│ 2023-03-08T06:23:19 ┆ 1        ┆ {'dataset':         ┆ {'name': 'PRUEBAS'} ┆ {'network': {'out': │\n",
       "│ .991Z               ┆          ┆ 'system.network'}   ┆                     ┆ {'bytes': 45…       │\n",
       "└─────────────────────┴──────────┴─────────────────────┴─────────────────────┴─────────────────────┘"
      ]
     },
     "execution_count": 4,
     "metadata": {},
     "output_type": "execute_result"
    }
   ],
   "source": [
    "df"
   ]
  },
  {
   "cell_type": "code",
   "execution_count": 5,
   "metadata": {},
   "outputs": [
    {
     "name": "stdout",
     "output_type": "stream",
     "text": [
      "{'dataset': 'system.network'}\n",
      "{'dataset': 'system.memory'}\n",
      "{'dataset': 'system.cpu'}\n"
     ]
    }
   ],
   "source": [
    "for i in events:\n",
    "    print(i)"
   ]
  },
  {
   "cell_type": "code",
   "execution_count": 56,
   "metadata": {},
   "outputs": [],
   "source": [
    "null_host = df.filter(df['system'].is_null()).select(pl.col('host'))\n",
    "# null_host = null_host.unique()\n",
    "# for i in null_host:\n",
    "#     print(i)"
   ]
  },
  {
   "cell_type": "code",
   "execution_count": 57,
   "metadata": {},
   "outputs": [
    {
     "data": {
      "text/html": [
       "<div><style>\n",
       ".dataframe > thead > tr > th,\n",
       ".dataframe > tbody > tr > td {\n",
       "  text-align: right;\n",
       "}\n",
       "</style>\n",
       "<small>shape: (5, 2)</small><table border=\"1\" class=\"dataframe\"><thead><tr><th>host</th><th>count</th></tr><tr><td>str</td><td>u32</td></tr></thead><tbody><tr><td>&quot;{&#x27;name&#x27;: &#x27;QASE…</td><td>266653</td></tr><tr><td>&quot;{&#x27;name&#x27;: &#x27;PROD…</td><td>265771</td></tr><tr><td>&quot;{&#x27;name&#x27;: &#x27;DEVE…</td><td>266653</td></tr><tr><td>&quot;{&#x27;name&#x27;: &#x27;PREP…</td><td>266374</td></tr><tr><td>&quot;{&#x27;name&#x27;: &#x27;PRUE…</td><td>265979</td></tr></tbody></table></div>"
      ],
      "text/plain": [
       "shape: (5, 2)\n",
       "┌───────────────────────────┬────────┐\n",
       "│ host                      ┆ count  │\n",
       "│ ---                       ┆ ---    │\n",
       "│ str                       ┆ u32    │\n",
       "╞═══════════════════════════╪════════╡\n",
       "│ {'name': 'QASERVER'}      ┆ 266653 │\n",
       "│ {'name': 'PRODUCCION'}    ┆ 265771 │\n",
       "│ {'name': 'DEVELOP'}       ┆ 266653 │\n",
       "│ {'name': 'PREPRODUCCION'} ┆ 266374 │\n",
       "│ {'name': 'PRUEBAS'}       ┆ 265979 │\n",
       "└───────────────────────────┴────────┘"
      ]
     },
     "execution_count": 57,
     "metadata": {},
     "output_type": "execute_result"
    }
   ],
   "source": [
    "null_host.groupby(\"host\", maintain_order=True).agg(pl.count())"
   ]
  },
  {
   "cell_type": "code",
   "execution_count": 40,
   "metadata": {},
   "outputs": [
    {
     "data": {
      "text/plain": [
       "1331430"
      ]
     },
     "execution_count": 40,
     "metadata": {},
     "output_type": "execute_result"
    }
   ],
   "source": [
    "df['system'].null_count()"
   ]
  },
  {
   "cell_type": "code",
   "execution_count": 45,
   "metadata": {},
   "outputs": [
    {
     "data": {
      "text/html": [
       "<div><style>\n",
       ".dataframe > thead > tr > th,\n",
       ".dataframe > tbody > tr > td {\n",
       "  text-align: right;\n",
       "}\n",
       "</style>\n",
       "<small>shape: (7_987_581,)</small><table border=\"1\" class=\"dataframe\"><thead><tr><th>system</th></tr><tr><td>bool</td></tr></thead><tbody><tr><td>false</td></tr><tr><td>false</td></tr><tr><td>false</td></tr><tr><td>false</td></tr><tr><td>false</td></tr><tr><td>false</td></tr><tr><td>false</td></tr><tr><td>false</td></tr><tr><td>false</td></tr><tr><td>false</td></tr><tr><td>false</td></tr><tr><td>false</td></tr><tr><td>&hellip;</td></tr><tr><td>false</td></tr><tr><td>false</td></tr><tr><td>false</td></tr><tr><td>false</td></tr><tr><td>false</td></tr><tr><td>false</td></tr><tr><td>false</td></tr><tr><td>false</td></tr><tr><td>true</td></tr><tr><td>false</td></tr><tr><td>false</td></tr><tr><td>false</td></tr></tbody></table></div>"
      ],
      "text/plain": [
       "shape: (7_987_581,)\n",
       "Series: 'system' [bool]\n",
       "[\n",
       "\tfalse\n",
       "\tfalse\n",
       "\tfalse\n",
       "\tfalse\n",
       "\tfalse\n",
       "\tfalse\n",
       "\tfalse\n",
       "\tfalse\n",
       "\tfalse\n",
       "\tfalse\n",
       "\tfalse\n",
       "\tfalse\n",
       "\t…\n",
       "\tfalse\n",
       "\tfalse\n",
       "\tfalse\n",
       "\tfalse\n",
       "\tfalse\n",
       "\tfalse\n",
       "\tfalse\n",
       "\tfalse\n",
       "\tfalse\n",
       "\ttrue\n",
       "\tfalse\n",
       "\tfalse\n",
       "\tfalse\n",
       "]"
      ]
     },
     "execution_count": 45,
     "metadata": {},
     "output_type": "execute_result"
    }
   ],
   "source": [
    "df['system'].is_null()"
   ]
  },
  {
   "cell_type": "code",
   "execution_count": 118,
   "metadata": {},
   "outputs": [],
   "source": [
    "df = df.with_columns([pl.col('event').apply(ast.literal_eval),\n",
    "                #  pl.col('system').apply(ast.literal_eval),\n",
    "                 pl.col('host').apply(ast.literal_eval)],)"
   ]
  },
  {
   "cell_type": "code",
   "execution_count": 119,
   "metadata": {},
   "outputs": [],
   "source": [
    "cpu = df.filter(pl.col('event') == '{\"system.cpu\"}')\n",
    "network = df.filter(pl.col('event') == '{\"system.network\"}')\n",
    "memory = df.filter(pl.col('event') == '{\"system.memory\"}')"
   ]
  },
  {
   "cell_type": "code",
   "execution_count": 120,
   "metadata": {},
   "outputs": [
    {
     "data": {
      "text/plain": [
       "<bound method DataFrame.__str__ of shape: (1_331_490, 5)\n",
       "┌──────────────────────────┬──────────┬────────────────┬──────────────┬───────────────────────┐\n",
       "│ @timestamp               ┆ @version ┆ event          ┆ host         ┆ system                │\n",
       "│ ---                      ┆ ---      ┆ ---            ┆ ---          ┆ ---                   │\n",
       "│ str                      ┆ i64      ┆ struct[1]      ┆ struct[1]    ┆ str                   │\n",
       "╞══════════════════════════╪══════════╪════════════════╪══════════════╪═══════════════════════╡\n",
       "│ 2023-03-13T07:04:31.079Z ┆ 1        ┆ {\"system.cpu\"} ┆ {\"QASERVER\"} ┆ {'cpu': {'cores': 4,  │\n",
       "│                          ┆          ┆                ┆              ┆ 'idle': {'p…          │\n",
       "│ 2023-03-13T07:13:31.085Z ┆ 1        ┆ {\"system.cpu\"} ┆ {\"QASERVER\"} ┆ {'cpu': {'cores': 4,  │\n",
       "│                          ┆          ┆                ┆              ┆ 'idle': {'p…          │\n",
       "│ 2023-03-13T08:16:41.112Z ┆ 1        ┆ {\"system.cpu\"} ┆ {\"QASERVER\"} ┆ {'cpu': {'cores': 4,  │\n",
       "│                          ┆          ┆                ┆              ┆ 'idle': {'p…          │\n",
       "│ 2023-03-13T07:57:51.111Z ┆ 1        ┆ {\"system.cpu\"} ┆ {\"QASERVER\"} ┆ {'cpu': {'cores': 4,  │\n",
       "│                          ┆          ┆                ┆              ┆ 'idle': {'p…          │\n",
       "│ …                        ┆ …        ┆ …              ┆ …            ┆ …                     │\n",
       "│ 2023-03-31T19:45:50.459Z ┆ 1        ┆ {\"system.cpu\"} ┆ {\"PRUEBAS\"}  ┆ {'cpu': {'cores': 16, │\n",
       "│                          ┆          ┆                ┆              ┆ 'idle': {'…           │\n",
       "│ 2023-03-31T19:46:50.459Z ┆ 1        ┆ {\"system.cpu\"} ┆ {\"PRUEBAS\"}  ┆ {'cpu': {'cores': 16, │\n",
       "│                          ┆          ┆                ┆              ┆ 'idle': {'…           │\n",
       "│ 2023-03-31T19:44:30.459Z ┆ 1        ┆ {\"system.cpu\"} ┆ {\"PRUEBAS\"}  ┆ {'cpu': {'cores': 16, │\n",
       "│                          ┆          ┆                ┆              ┆ 'idle': {'…           │\n",
       "│ 2023-03-31T19:44:40.459Z ┆ 1        ┆ {\"system.cpu\"} ┆ {\"PRUEBAS\"}  ┆ {'cpu': {'cores': 16, │\n",
       "│                          ┆          ┆                ┆              ┆ 'idle': {'…           │\n",
       "└──────────────────────────┴──────────┴────────────────┴──────────────┴───────────────────────┘>"
      ]
     },
     "execution_count": 120,
     "metadata": {},
     "output_type": "execute_result"
    }
   ],
   "source": [
    "cpu.__str__"
   ]
  },
  {
   "cell_type": "code",
   "execution_count": 121,
   "metadata": {},
   "outputs": [
    {
     "ename": "ComputeError",
     "evalue": "JSONDecodeError: Expecting property name enclosed in double quotes: line 1 column 2 (char 1)",
     "output_type": "error",
     "traceback": [
      "\u001b[0;31m---------------------------------------------------------------------------\u001b[0m",
      "\u001b[0;31mComputeError\u001b[0m                              Traceback (most recent call last)",
      "Cell \u001b[0;32mIn[121], line 1\u001b[0m\n\u001b[0;32m----> 1\u001b[0m cpu \u001b[39m=\u001b[39m cpu\u001b[39m.\u001b[39;49mwith_columns(pl\u001b[39m.\u001b[39;49mcol(\u001b[39m'\u001b[39;49m\u001b[39msystem\u001b[39;49m\u001b[39m'\u001b[39;49m)\u001b[39m.\u001b[39;49mapply(json\u001b[39m.\u001b[39;49mloads))\n",
      "File \u001b[0;32m/opt/homebrew/lib/python3.10/site-packages/polars/dataframe/frame.py:7110\u001b[0m, in \u001b[0;36mDataFrame.with_columns\u001b[0;34m(self, exprs, *more_exprs, **named_exprs)\u001b[0m\n\u001b[1;32m   6960\u001b[0m \u001b[39mdef\u001b[39;00m \u001b[39mwith_columns\u001b[39m(\n\u001b[1;32m   6961\u001b[0m     \u001b[39mself\u001b[39m,\n\u001b[1;32m   6962\u001b[0m     exprs: IntoExpr \u001b[39m|\u001b[39m Iterable[IntoExpr] \u001b[39m|\u001b[39m \u001b[39mNone\u001b[39;00m \u001b[39m=\u001b[39m \u001b[39mNone\u001b[39;00m,\n\u001b[1;32m   6963\u001b[0m     \u001b[39m*\u001b[39mmore_exprs: IntoExpr,\n\u001b[1;32m   6964\u001b[0m     \u001b[39m*\u001b[39m\u001b[39m*\u001b[39mnamed_exprs: IntoExpr,\n\u001b[1;32m   6965\u001b[0m ) \u001b[39m-\u001b[39m\u001b[39m>\u001b[39m Self:\n\u001b[1;32m   6966\u001b[0m     \u001b[39m\"\"\"\u001b[39;00m\n\u001b[1;32m   6967\u001b[0m \u001b[39m    Add columns to this DataFrame.\u001b[39;00m\n\u001b[1;32m   6968\u001b[0m \n\u001b[0;32m   (...)\u001b[0m\n\u001b[1;32m   7107\u001b[0m \n\u001b[1;32m   7108\u001b[0m \u001b[39m    \"\"\"\u001b[39;00m\n\u001b[1;32m   7109\u001b[0m     \u001b[39mreturn\u001b[39;00m \u001b[39mself\u001b[39m\u001b[39m.\u001b[39m_from_pydf(\n\u001b[0;32m-> 7110\u001b[0m         \u001b[39mself\u001b[39;49m\u001b[39m.\u001b[39;49mlazy()\n\u001b[1;32m   7111\u001b[0m         \u001b[39m.\u001b[39;49mwith_columns(exprs, \u001b[39m*\u001b[39;49mmore_exprs, \u001b[39m*\u001b[39;49m\u001b[39m*\u001b[39;49mnamed_exprs)\n\u001b[1;32m   7112\u001b[0m         \u001b[39m.\u001b[39;49mcollect(no_optimization\u001b[39m=\u001b[39;49m\u001b[39mTrue\u001b[39;49;00m)\n\u001b[1;32m   7113\u001b[0m         \u001b[39m.\u001b[39m_df\n\u001b[1;32m   7114\u001b[0m     )\n",
      "File \u001b[0;32m/opt/homebrew/lib/python3.10/site-packages/polars/lazyframe/frame.py:1602\u001b[0m, in \u001b[0;36mLazyFrame.collect\u001b[0;34m(self, type_coercion, predicate_pushdown, projection_pushdown, simplify_expression, no_optimization, slice_pushdown, common_subplan_elimination, streaming)\u001b[0m\n\u001b[1;32m   1591\u001b[0m     common_subplan_elimination \u001b[39m=\u001b[39m \u001b[39mFalse\u001b[39;00m\n\u001b[1;32m   1593\u001b[0m ldf \u001b[39m=\u001b[39m \u001b[39mself\u001b[39m\u001b[39m.\u001b[39m_ldf\u001b[39m.\u001b[39moptimization_toggle(\n\u001b[1;32m   1594\u001b[0m     type_coercion,\n\u001b[1;32m   1595\u001b[0m     predicate_pushdown,\n\u001b[0;32m   (...)\u001b[0m\n\u001b[1;32m   1600\u001b[0m     streaming,\n\u001b[1;32m   1601\u001b[0m )\n\u001b[0;32m-> 1602\u001b[0m \u001b[39mreturn\u001b[39;00m wrap_df(ldf\u001b[39m.\u001b[39;49mcollect())\n",
      "\u001b[0;31mComputeError\u001b[0m: JSONDecodeError: Expecting property name enclosed in double quotes: line 1 column 2 (char 1)"
     ]
    }
   ],
   "source": [
    "cpu = cpu.with_columns(pl.col('system').apply(json.loads))"
   ]
  },
  {
   "cell_type": "code",
   "execution_count": 122,
   "metadata": {},
   "outputs": [
    {
     "data": {
      "text/html": [
       "<div><style>\n",
       ".dataframe > thead > tr > th,\n",
       ".dataframe > tbody > tr > td {\n",
       "  text-align: right;\n",
       "}\n",
       "</style>\n",
       "<small>shape: (1_331_490, 5)</small><table border=\"1\" class=\"dataframe\"><thead><tr><th>@timestamp</th><th>@version</th><th>event</th><th>host</th><th>system</th></tr><tr><td>str</td><td>i64</td><td>struct[1]</td><td>struct[1]</td><td>str</td></tr></thead><tbody><tr><td>&quot;2023-03-13T07:…</td><td>1</td><td>{&quot;system.cpu&quot;}</td><td>{&quot;QASERVER&quot;}</td><td>&quot;{&#x27;cpu&#x27;: {&#x27;core…</td></tr><tr><td>&quot;2023-03-13T07:…</td><td>1</td><td>{&quot;system.cpu&quot;}</td><td>{&quot;QASERVER&quot;}</td><td>&quot;{&#x27;cpu&#x27;: {&#x27;core…</td></tr><tr><td>&quot;2023-03-13T08:…</td><td>1</td><td>{&quot;system.cpu&quot;}</td><td>{&quot;QASERVER&quot;}</td><td>&quot;{&#x27;cpu&#x27;: {&#x27;core…</td></tr><tr><td>&quot;2023-03-13T07:…</td><td>1</td><td>{&quot;system.cpu&quot;}</td><td>{&quot;QASERVER&quot;}</td><td>&quot;{&#x27;cpu&#x27;: {&#x27;core…</td></tr><tr><td>&quot;2023-03-13T10:…</td><td>1</td><td>{&quot;system.cpu&quot;}</td><td>{&quot;QASERVER&quot;}</td><td>&quot;{&#x27;cpu&#x27;: {&#x27;core…</td></tr><tr><td>&quot;2023-03-13T07:…</td><td>1</td><td>{&quot;system.cpu&quot;}</td><td>{&quot;QASERVER&quot;}</td><td>&quot;{&#x27;cpu&#x27;: {&#x27;core…</td></tr><tr><td>&quot;2023-03-13T07:…</td><td>1</td><td>{&quot;system.cpu&quot;}</td><td>{&quot;QASERVER&quot;}</td><td>&quot;{&#x27;cpu&#x27;: {&#x27;core…</td></tr><tr><td>&quot;2023-03-13T10:…</td><td>1</td><td>{&quot;system.cpu&quot;}</td><td>{&quot;QASERVER&quot;}</td><td>&quot;{&#x27;cpu&#x27;: {&#x27;core…</td></tr><tr><td>&quot;2023-03-13T10:…</td><td>1</td><td>{&quot;system.cpu&quot;}</td><td>{&quot;QASERVER&quot;}</td><td>&quot;{&#x27;cpu&#x27;: {&#x27;core…</td></tr><tr><td>&quot;2023-03-13T10:…</td><td>1</td><td>{&quot;system.cpu&quot;}</td><td>{&quot;QASERVER&quot;}</td><td>&quot;{&#x27;cpu&#x27;: {&#x27;core…</td></tr><tr><td>&quot;2023-03-13T10:…</td><td>1</td><td>{&quot;system.cpu&quot;}</td><td>{&quot;QASERVER&quot;}</td><td>&quot;{&#x27;cpu&#x27;: {&#x27;core…</td></tr><tr><td>&quot;2023-03-13T14:…</td><td>1</td><td>{&quot;system.cpu&quot;}</td><td>{&quot;QASERVER&quot;}</td><td>&quot;{&#x27;cpu&#x27;: {&#x27;core…</td></tr><tr><td>&hellip;</td><td>&hellip;</td><td>&hellip;</td><td>&hellip;</td><td>&hellip;</td></tr><tr><td>&quot;2023-03-31T20:…</td><td>1</td><td>{&quot;system.cpu&quot;}</td><td>{&quot;PRUEBAS&quot;}</td><td>&quot;{&#x27;cpu&#x27;: {&#x27;core…</td></tr><tr><td>&quot;2023-03-31T20:…</td><td>1</td><td>{&quot;system.cpu&quot;}</td><td>{&quot;PRUEBAS&quot;}</td><td>&quot;{&#x27;cpu&#x27;: {&#x27;core…</td></tr><tr><td>&quot;2023-03-31T20:…</td><td>1</td><td>{&quot;system.cpu&quot;}</td><td>{&quot;PRUEBAS&quot;}</td><td>&quot;{&#x27;cpu&#x27;: {&#x27;core…</td></tr><tr><td>&quot;2023-03-31T20:…</td><td>1</td><td>{&quot;system.cpu&quot;}</td><td>{&quot;PRUEBAS&quot;}</td><td>&quot;{&#x27;cpu&#x27;: {&#x27;core…</td></tr><tr><td>&quot;2023-03-31T15:…</td><td>1</td><td>{&quot;system.cpu&quot;}</td><td>{&quot;PRUEBAS&quot;}</td><td>&quot;{&#x27;cpu&#x27;: {&#x27;core…</td></tr><tr><td>&quot;2023-03-31T16:…</td><td>1</td><td>{&quot;system.cpu&quot;}</td><td>{&quot;PRUEBAS&quot;}</td><td>&quot;{&#x27;cpu&#x27;: {&#x27;core…</td></tr><tr><td>&quot;2023-03-31T17:…</td><td>1</td><td>{&quot;system.cpu&quot;}</td><td>{&quot;PRUEBAS&quot;}</td><td>&quot;{&#x27;cpu&#x27;: {&#x27;core…</td></tr><tr><td>&quot;2023-03-31T20:…</td><td>1</td><td>{&quot;system.cpu&quot;}</td><td>{&quot;PRUEBAS&quot;}</td><td>&quot;{&#x27;cpu&#x27;: {&#x27;core…</td></tr><tr><td>&quot;2023-03-31T19:…</td><td>1</td><td>{&quot;system.cpu&quot;}</td><td>{&quot;PRUEBAS&quot;}</td><td>&quot;{&#x27;cpu&#x27;: {&#x27;core…</td></tr><tr><td>&quot;2023-03-31T19:…</td><td>1</td><td>{&quot;system.cpu&quot;}</td><td>{&quot;PRUEBAS&quot;}</td><td>&quot;{&#x27;cpu&#x27;: {&#x27;core…</td></tr><tr><td>&quot;2023-03-31T19:…</td><td>1</td><td>{&quot;system.cpu&quot;}</td><td>{&quot;PRUEBAS&quot;}</td><td>&quot;{&#x27;cpu&#x27;: {&#x27;core…</td></tr><tr><td>&quot;2023-03-31T19:…</td><td>1</td><td>{&quot;system.cpu&quot;}</td><td>{&quot;PRUEBAS&quot;}</td><td>&quot;{&#x27;cpu&#x27;: {&#x27;core…</td></tr></tbody></table></div>"
      ],
      "text/plain": [
       "shape: (1_331_490, 5)\n",
       "┌──────────────────────────┬──────────┬────────────────┬──────────────┬───────────────────────┐\n",
       "│ @timestamp               ┆ @version ┆ event          ┆ host         ┆ system                │\n",
       "│ ---                      ┆ ---      ┆ ---            ┆ ---          ┆ ---                   │\n",
       "│ str                      ┆ i64      ┆ struct[1]      ┆ struct[1]    ┆ str                   │\n",
       "╞══════════════════════════╪══════════╪════════════════╪══════════════╪═══════════════════════╡\n",
       "│ 2023-03-13T07:04:31.079Z ┆ 1        ┆ {\"system.cpu\"} ┆ {\"QASERVER\"} ┆ {'cpu': {'cores': 4,  │\n",
       "│                          ┆          ┆                ┆              ┆ 'idle': {'p…          │\n",
       "│ 2023-03-13T07:13:31.085Z ┆ 1        ┆ {\"system.cpu\"} ┆ {\"QASERVER\"} ┆ {'cpu': {'cores': 4,  │\n",
       "│                          ┆          ┆                ┆              ┆ 'idle': {'p…          │\n",
       "│ 2023-03-13T08:16:41.112Z ┆ 1        ┆ {\"system.cpu\"} ┆ {\"QASERVER\"} ┆ {'cpu': {'cores': 4,  │\n",
       "│                          ┆          ┆                ┆              ┆ 'idle': {'p…          │\n",
       "│ 2023-03-13T07:57:51.111Z ┆ 1        ┆ {\"system.cpu\"} ┆ {\"QASERVER\"} ┆ {'cpu': {'cores': 4,  │\n",
       "│                          ┆          ┆                ┆              ┆ 'idle': {'p…          │\n",
       "│ …                        ┆ …        ┆ …              ┆ …            ┆ …                     │\n",
       "│ 2023-03-31T19:45:50.459Z ┆ 1        ┆ {\"system.cpu\"} ┆ {\"PRUEBAS\"}  ┆ {'cpu': {'cores': 16, │\n",
       "│                          ┆          ┆                ┆              ┆ 'idle': {'…           │\n",
       "│ 2023-03-31T19:46:50.459Z ┆ 1        ┆ {\"system.cpu\"} ┆ {\"PRUEBAS\"}  ┆ {'cpu': {'cores': 16, │\n",
       "│                          ┆          ┆                ┆              ┆ 'idle': {'…           │\n",
       "│ 2023-03-31T19:44:30.459Z ┆ 1        ┆ {\"system.cpu\"} ┆ {\"PRUEBAS\"}  ┆ {'cpu': {'cores': 16, │\n",
       "│                          ┆          ┆                ┆              ┆ 'idle': {'…           │\n",
       "│ 2023-03-31T19:44:40.459Z ┆ 1        ┆ {\"system.cpu\"} ┆ {\"PRUEBAS\"}  ┆ {'cpu': {'cores': 16, │\n",
       "│                          ┆          ┆                ┆              ┆ 'idle': {'…           │\n",
       "└──────────────────────────┴──────────┴────────────────┴──────────────┴───────────────────────┘"
      ]
     },
     "execution_count": 122,
     "metadata": {},
     "output_type": "execute_result"
    }
   ],
   "source": [
    "cpu"
   ]
  },
  {
   "cell_type": "code",
   "execution_count": 33,
   "metadata": {},
   "outputs": [
    {
     "ename": "ComputeError",
     "evalue": "ValueError: dictionary update sequence element #0 has length 1; 2 is required",
     "output_type": "error",
     "traceback": [
      "\u001b[0;31m---------------------------------------------------------------------------\u001b[0m",
      "\u001b[0;31mComputeError\u001b[0m                              Traceback (most recent call last)",
      "Cell \u001b[0;32mIn[33], line 1\u001b[0m\n\u001b[0;32m----> 1\u001b[0m df\u001b[39m.\u001b[39;49mwith_columns(pl\u001b[39m.\u001b[39;49mcol(\u001b[39m'\u001b[39;49m\u001b[39mevent\u001b[39;49m\u001b[39m'\u001b[39;49m)\u001b[39m.\u001b[39;49mapply(\u001b[39mlambda\u001b[39;49;00m x: \u001b[39mdict\u001b[39;49m(x)))\n",
      "File \u001b[0;32m/opt/homebrew/lib/python3.10/site-packages/polars/dataframe/frame.py:7110\u001b[0m, in \u001b[0;36mDataFrame.with_columns\u001b[0;34m(self, exprs, *more_exprs, **named_exprs)\u001b[0m\n\u001b[1;32m   6960\u001b[0m \u001b[39mdef\u001b[39;00m \u001b[39mwith_columns\u001b[39m(\n\u001b[1;32m   6961\u001b[0m     \u001b[39mself\u001b[39m,\n\u001b[1;32m   6962\u001b[0m     exprs: IntoExpr \u001b[39m|\u001b[39m Iterable[IntoExpr] \u001b[39m|\u001b[39m \u001b[39mNone\u001b[39;00m \u001b[39m=\u001b[39m \u001b[39mNone\u001b[39;00m,\n\u001b[1;32m   6963\u001b[0m     \u001b[39m*\u001b[39mmore_exprs: IntoExpr,\n\u001b[1;32m   6964\u001b[0m     \u001b[39m*\u001b[39m\u001b[39m*\u001b[39mnamed_exprs: IntoExpr,\n\u001b[1;32m   6965\u001b[0m ) \u001b[39m-\u001b[39m\u001b[39m>\u001b[39m Self:\n\u001b[1;32m   6966\u001b[0m     \u001b[39m\"\"\"\u001b[39;00m\n\u001b[1;32m   6967\u001b[0m \u001b[39m    Add columns to this DataFrame.\u001b[39;00m\n\u001b[1;32m   6968\u001b[0m \n\u001b[0;32m   (...)\u001b[0m\n\u001b[1;32m   7107\u001b[0m \n\u001b[1;32m   7108\u001b[0m \u001b[39m    \"\"\"\u001b[39;00m\n\u001b[1;32m   7109\u001b[0m     \u001b[39mreturn\u001b[39;00m \u001b[39mself\u001b[39m\u001b[39m.\u001b[39m_from_pydf(\n\u001b[0;32m-> 7110\u001b[0m         \u001b[39mself\u001b[39;49m\u001b[39m.\u001b[39;49mlazy()\n\u001b[1;32m   7111\u001b[0m         \u001b[39m.\u001b[39;49mwith_columns(exprs, \u001b[39m*\u001b[39;49mmore_exprs, \u001b[39m*\u001b[39;49m\u001b[39m*\u001b[39;49mnamed_exprs)\n\u001b[1;32m   7112\u001b[0m         \u001b[39m.\u001b[39;49mcollect(no_optimization\u001b[39m=\u001b[39;49m\u001b[39mTrue\u001b[39;49;00m)\n\u001b[1;32m   7113\u001b[0m         \u001b[39m.\u001b[39m_df\n\u001b[1;32m   7114\u001b[0m     )\n",
      "File \u001b[0;32m/opt/homebrew/lib/python3.10/site-packages/polars/lazyframe/frame.py:1602\u001b[0m, in \u001b[0;36mLazyFrame.collect\u001b[0;34m(self, type_coercion, predicate_pushdown, projection_pushdown, simplify_expression, no_optimization, slice_pushdown, common_subplan_elimination, streaming)\u001b[0m\n\u001b[1;32m   1591\u001b[0m     common_subplan_elimination \u001b[39m=\u001b[39m \u001b[39mFalse\u001b[39;00m\n\u001b[1;32m   1593\u001b[0m ldf \u001b[39m=\u001b[39m \u001b[39mself\u001b[39m\u001b[39m.\u001b[39m_ldf\u001b[39m.\u001b[39moptimization_toggle(\n\u001b[1;32m   1594\u001b[0m     type_coercion,\n\u001b[1;32m   1595\u001b[0m     predicate_pushdown,\n\u001b[0;32m   (...)\u001b[0m\n\u001b[1;32m   1600\u001b[0m     streaming,\n\u001b[1;32m   1601\u001b[0m )\n\u001b[0;32m-> 1602\u001b[0m \u001b[39mreturn\u001b[39;00m wrap_df(ldf\u001b[39m.\u001b[39;49mcollect())\n",
      "\u001b[0;31mComputeError\u001b[0m: ValueError: dictionary update sequence element #0 has length 1; 2 is required"
     ]
    }
   ],
   "source": [
    "df.with_columns(pl.col('event').apply(lambda x: dict(x)))"
   ]
  },
  {
   "attachments": {},
   "cell_type": "markdown",
   "metadata": {},
   "source": [
    "# Pickle EDA"
   ]
  },
  {
   "cell_type": "code",
   "execution_count": 125,
   "metadata": {},
   "outputs": [],
   "source": [
    "cpu = pd.read_pickle('../../data/cpu.pkl')\n",
    "network = pd.read_pickle('../../data/network.pkl')\n",
    "memory = pd.read_pickle('../../data/memory.pkl')\n",
    "\n",
    "cpu = pl.from_pandas(cpu)\n",
    "network = pl.from_pandas(network)\n",
    "memory = pl.from_pandas(memory)"
   ]
  },
  {
   "cell_type": "code",
   "execution_count": 126,
   "metadata": {},
   "outputs": [
    {
     "data": {
      "text/html": [
       "<div><style>\n",
       ".dataframe > thead > tr > th,\n",
       ".dataframe > tbody > tr > td {\n",
       "  text-align: right;\n",
       "}\n",
       "</style>\n",
       "<small>shape: (1_331_490, 8)</small><table border=\"1\" class=\"dataframe\"><thead><tr><th>cpu.cores</th><th>cpu.idle.pct</th><th>cpu.user.pct</th><th>cpu.system.pct</th><th>cpu.steal.pct</th><th>timestamp</th><th>event</th><th>node</th></tr><tr><td>i64</td><td>f64</td><td>f64</td><td>f64</td><td>f64</td><td>str</td><td>str</td><td>str</td></tr></thead><tbody><tr><td>4</td><td>3.8109</td><td>0.0813</td><td>0.1078</td><td>null</td><td>&quot;2023-03-13T07:…</td><td>&quot;system.cpu&quot;</td><td>&quot;QASERVER&quot;</td></tr><tr><td>4</td><td>3.7359</td><td>0.1422</td><td>0.1219</td><td>null</td><td>&quot;2023-03-13T07:…</td><td>&quot;system.cpu&quot;</td><td>&quot;QASERVER&quot;</td></tr><tr><td>4</td><td>3.8563</td><td>0.0844</td><td>0.0593</td><td>null</td><td>&quot;2023-03-13T08:…</td><td>&quot;system.cpu&quot;</td><td>&quot;QASERVER&quot;</td></tr><tr><td>4</td><td>3.9766</td><td>0.0078</td><td>0.0156</td><td>null</td><td>&quot;2023-03-13T07:…</td><td>&quot;system.cpu&quot;</td><td>&quot;QASERVER&quot;</td></tr><tr><td>4</td><td>3.889</td><td>0.0688</td><td>0.0422</td><td>null</td><td>&quot;2023-03-13T10:…</td><td>&quot;system.cpu&quot;</td><td>&quot;QASERVER&quot;</td></tr><tr><td>4</td><td>3.9266</td><td>0.0281</td><td>0.0453</td><td>null</td><td>&quot;2023-03-13T07:…</td><td>&quot;system.cpu&quot;</td><td>&quot;QASERVER&quot;</td></tr><tr><td>4</td><td>3.9672</td><td>0.0187</td><td>0.0141</td><td>null</td><td>&quot;2023-03-13T07:…</td><td>&quot;system.cpu&quot;</td><td>&quot;QASERVER&quot;</td></tr><tr><td>4</td><td>3.7546</td><td>0.1235</td><td>0.1219</td><td>null</td><td>&quot;2023-03-13T10:…</td><td>&quot;system.cpu&quot;</td><td>&quot;QASERVER&quot;</td></tr><tr><td>4</td><td>3.8312</td><td>0.0641</td><td>0.1047</td><td>null</td><td>&quot;2023-03-13T10:…</td><td>&quot;system.cpu&quot;</td><td>&quot;QASERVER&quot;</td></tr><tr><td>4</td><td>3.8706</td><td>0.0717</td><td>0.0577</td><td>null</td><td>&quot;2023-03-13T10:…</td><td>&quot;system.cpu&quot;</td><td>&quot;QASERVER&quot;</td></tr><tr><td>4</td><td>3.9062</td><td>0.0391</td><td>0.0547</td><td>null</td><td>&quot;2023-03-13T10:…</td><td>&quot;system.cpu&quot;</td><td>&quot;QASERVER&quot;</td></tr><tr><td>4</td><td>3.8375</td><td>0.0875</td><td>0.075</td><td>null</td><td>&quot;2023-03-13T14:…</td><td>&quot;system.cpu&quot;</td><td>&quot;QASERVER&quot;</td></tr><tr><td>&hellip;</td><td>&hellip;</td><td>&hellip;</td><td>&hellip;</td><td>&hellip;</td><td>&hellip;</td><td>&hellip;</td><td>&hellip;</td></tr><tr><td>16</td><td>15.967</td><td>0.016</td><td>0.016</td><td>0.0</td><td>&quot;2023-03-31T20:…</td><td>&quot;system.cpu&quot;</td><td>&quot;PRUEBAS&quot;</td></tr><tr><td>16</td><td>15.959</td><td>0.021</td><td>0.019</td><td>0.0</td><td>&quot;2023-03-31T20:…</td><td>&quot;system.cpu&quot;</td><td>&quot;PRUEBAS&quot;</td></tr><tr><td>16</td><td>15.958</td><td>0.02</td><td>0.021</td><td>0.0</td><td>&quot;2023-03-31T20:…</td><td>&quot;system.cpu&quot;</td><td>&quot;PRUEBAS&quot;</td></tr><tr><td>16</td><td>15.88</td><td>0.096</td><td>0.023</td><td>0.0</td><td>&quot;2023-03-31T20:…</td><td>&quot;system.cpu&quot;</td><td>&quot;PRUEBAS&quot;</td></tr><tr><td>16</td><td>15.96</td><td>0.02</td><td>0.019</td><td>0.0</td><td>&quot;2023-03-31T15:…</td><td>&quot;system.cpu&quot;</td><td>&quot;PRUEBAS&quot;</td></tr><tr><td>16</td><td>15.949</td><td>0.022</td><td>0.028</td><td>0.0</td><td>&quot;2023-03-31T16:…</td><td>&quot;system.cpu&quot;</td><td>&quot;PRUEBAS&quot;</td></tr><tr><td>16</td><td>15.8689</td><td>0.1081</td><td>0.023</td><td>0.0</td><td>&quot;2023-03-31T17:…</td><td>&quot;system.cpu&quot;</td><td>&quot;PRUEBAS&quot;</td></tr><tr><td>16</td><td>15.962</td><td>0.02</td><td>0.017</td><td>0.0</td><td>&quot;2023-03-31T20:…</td><td>&quot;system.cpu&quot;</td><td>&quot;PRUEBAS&quot;</td></tr><tr><td>16</td><td>15.967</td><td>0.014</td><td>0.018</td><td>0.0</td><td>&quot;2023-03-31T19:…</td><td>&quot;system.cpu&quot;</td><td>&quot;PRUEBAS&quot;</td></tr><tr><td>16</td><td>15.961</td><td>0.02</td><td>0.019</td><td>0.0</td><td>&quot;2023-03-31T19:…</td><td>&quot;system.cpu&quot;</td><td>&quot;PRUEBAS&quot;</td></tr><tr><td>16</td><td>15.963</td><td>0.017</td><td>0.02</td><td>0.0</td><td>&quot;2023-03-31T19:…</td><td>&quot;system.cpu&quot;</td><td>&quot;PRUEBAS&quot;</td></tr><tr><td>16</td><td>15.6819</td><td>0.2241</td><td>0.093</td><td>0.0</td><td>&quot;2023-03-31T19:…</td><td>&quot;system.cpu&quot;</td><td>&quot;PRUEBAS&quot;</td></tr></tbody></table></div>"
      ],
      "text/plain": [
       "shape: (1_331_490, 8)\n",
       "┌───────────┬────────────┬────────────┬────────────┬────────────┬───────────┬───────────┬──────────┐\n",
       "│ cpu.cores ┆ cpu.idle.p ┆ cpu.user.p ┆ cpu.system ┆ cpu.steal. ┆ timestamp ┆ event     ┆ node     │\n",
       "│ ---       ┆ ct         ┆ ct         ┆ .pct       ┆ pct        ┆ ---       ┆ ---       ┆ ---      │\n",
       "│ i64       ┆ ---        ┆ ---        ┆ ---        ┆ ---        ┆ str       ┆ str       ┆ str      │\n",
       "│           ┆ f64        ┆ f64        ┆ f64        ┆ f64        ┆           ┆           ┆          │\n",
       "╞═══════════╪════════════╪════════════╪════════════╪════════════╪═══════════╪═══════════╪══════════╡\n",
       "│ 4         ┆ 3.8109     ┆ 0.0813     ┆ 0.1078     ┆ null       ┆ 2023-03-1 ┆ system.cp ┆ QASERVER │\n",
       "│           ┆            ┆            ┆            ┆            ┆ 3T07:04:3 ┆ u         ┆          │\n",
       "│           ┆            ┆            ┆            ┆            ┆ 1.079Z    ┆           ┆          │\n",
       "│ 4         ┆ 3.7359     ┆ 0.1422     ┆ 0.1219     ┆ null       ┆ 2023-03-1 ┆ system.cp ┆ QASERVER │\n",
       "│           ┆            ┆            ┆            ┆            ┆ 3T07:13:3 ┆ u         ┆          │\n",
       "│           ┆            ┆            ┆            ┆            ┆ 1.085Z    ┆           ┆          │\n",
       "│ 4         ┆ 3.8563     ┆ 0.0844     ┆ 0.0593     ┆ null       ┆ 2023-03-1 ┆ system.cp ┆ QASERVER │\n",
       "│           ┆            ┆            ┆            ┆            ┆ 3T08:16:4 ┆ u         ┆          │\n",
       "│           ┆            ┆            ┆            ┆            ┆ 1.112Z    ┆           ┆          │\n",
       "│ 4         ┆ 3.9766     ┆ 0.0078     ┆ 0.0156     ┆ null       ┆ 2023-03-1 ┆ system.cp ┆ QASERVER │\n",
       "│           ┆            ┆            ┆            ┆            ┆ 3T07:57:5 ┆ u         ┆          │\n",
       "│           ┆            ┆            ┆            ┆            ┆ 1.111Z    ┆           ┆          │\n",
       "│ …         ┆ …          ┆ …          ┆ …          ┆ …          ┆ …         ┆ …         ┆ …        │\n",
       "│ 16        ┆ 15.967     ┆ 0.014      ┆ 0.018      ┆ 0.0        ┆ 2023-03-3 ┆ system.cp ┆ PRUEBAS  │\n",
       "│           ┆            ┆            ┆            ┆            ┆ 1T19:45:5 ┆ u         ┆          │\n",
       "│           ┆            ┆            ┆            ┆            ┆ 0.459Z    ┆           ┆          │\n",
       "│ 16        ┆ 15.961     ┆ 0.02       ┆ 0.019      ┆ 0.0        ┆ 2023-03-3 ┆ system.cp ┆ PRUEBAS  │\n",
       "│           ┆            ┆            ┆            ┆            ┆ 1T19:46:5 ┆ u         ┆          │\n",
       "│           ┆            ┆            ┆            ┆            ┆ 0.459Z    ┆           ┆          │\n",
       "│ 16        ┆ 15.963     ┆ 0.017      ┆ 0.02       ┆ 0.0        ┆ 2023-03-3 ┆ system.cp ┆ PRUEBAS  │\n",
       "│           ┆            ┆            ┆            ┆            ┆ 1T19:44:3 ┆ u         ┆          │\n",
       "│           ┆            ┆            ┆            ┆            ┆ 0.459Z    ┆           ┆          │\n",
       "│ 16        ┆ 15.6819    ┆ 0.2241     ┆ 0.093      ┆ 0.0        ┆ 2023-03-3 ┆ system.cp ┆ PRUEBAS  │\n",
       "│           ┆            ┆            ┆            ┆            ┆ 1T19:44:4 ┆ u         ┆          │\n",
       "│           ┆            ┆            ┆            ┆            ┆ 0.459Z    ┆           ┆          │\n",
       "└───────────┴────────────┴────────────┴────────────┴────────────┴───────────┴───────────┴──────────┘"
      ]
     },
     "execution_count": 126,
     "metadata": {},
     "output_type": "execute_result"
    }
   ],
   "source": [
    "cpu"
   ]
  },
  {
   "cell_type": "code",
   "execution_count": 139,
   "metadata": {},
   "outputs": [],
   "source": [
    "cpu = cpu.with_columns(pl.col('timestamp').apply(lambda x: dt.datetime.strptime(x, '%Y-%m-%dT%H:%M:%S.%fZ')))\n",
    "network = network.with_columns(pl.col('timestamp').apply(lambda x: dt.datetime.strptime(x, '%Y-%m-%dT%H:%M:%S.%fZ')))\n",
    "memory = memory.with_columns(pl.col('timestamp').apply(lambda x: dt.datetime.strptime(x, '%Y-%m-%dT%H:%M:%S.%fZ')))"
   ]
  },
  {
   "cell_type": "code",
   "execution_count": 137,
   "metadata": {},
   "outputs": [
    {
     "data": {
      "text/html": [
       "<div><style>\n",
       ".dataframe > thead > tr > th,\n",
       ".dataframe > tbody > tr > td {\n",
       "  text-align: right;\n",
       "}\n",
       "</style>\n",
       "<small>shape: (1_331_490, 8)</small><table border=\"1\" class=\"dataframe\"><thead><tr><th>cpu.cores</th><th>cpu.idle.pct</th><th>cpu.user.pct</th><th>cpu.system.pct</th><th>cpu.steal.pct</th><th>timestamp</th><th>event</th><th>node</th></tr><tr><td>i64</td><td>f64</td><td>f64</td><td>f64</td><td>f64</td><td>datetime[μs]</td><td>str</td><td>str</td></tr></thead><tbody><tr><td>4</td><td>3.9391</td><td>0.0203</td><td>0.0406</td><td>null</td><td>2023-03-01 00:00:00.303</td><td>&quot;system.cpu&quot;</td><td>&quot;QASERVER&quot;</td></tr><tr><td>4</td><td>3.9626</td><td>0.014</td><td>0.0234</td><td>null</td><td>2023-03-01 00:00:01.629</td><td>&quot;system.cpu&quot;</td><td>&quot;PREPRODUCCION&quot;</td></tr><tr><td>16</td><td>15.873</td><td>0.094</td><td>0.032</td><td>0.0</td><td>2023-03-01 00:00:05.906</td><td>&quot;system.cpu&quot;</td><td>&quot;PRUEBAS&quot;</td></tr><tr><td>8</td><td>7.7042</td><td>0.1018</td><td>0.194</td><td>null</td><td>2023-03-01 00:00:07.808</td><td>&quot;system.cpu&quot;</td><td>&quot;PRODUCCION&quot;</td></tr><tr><td>4</td><td>3.5039</td><td>0.2848</td><td>0.2112</td><td>null</td><td>2023-03-01 00:00:09.720</td><td>&quot;system.cpu&quot;</td><td>&quot;DEVELOP&quot;</td></tr><tr><td>4</td><td>3.8984</td><td>0.0579</td><td>0.0437</td><td>null</td><td>2023-03-01 00:00:10.315</td><td>&quot;system.cpu&quot;</td><td>&quot;QASERVER&quot;</td></tr><tr><td>4</td><td>3.8501</td><td>0.089</td><td>0.0609</td><td>null</td><td>2023-03-01 00:00:11.631</td><td>&quot;system.cpu&quot;</td><td>&quot;PREPRODUCCION&quot;</td></tr><tr><td>16</td><td>15.93</td><td>0.05</td><td>0.019</td><td>0.0</td><td>2023-03-01 00:00:15.906</td><td>&quot;system.cpu&quot;</td><td>&quot;PRUEBAS&quot;</td></tr><tr><td>8</td><td>7.7129</td><td>0.0952</td><td>0.1919</td><td>null</td><td>2023-03-01 00:00:17.823</td><td>&quot;system.cpu&quot;</td><td>&quot;PRODUCCION&quot;</td></tr><tr><td>4</td><td>3.9516</td><td>0.0141</td><td>0.0343</td><td>null</td><td>2023-03-01 00:00:19.729</td><td>&quot;system.cpu&quot;</td><td>&quot;DEVELOP&quot;</td></tr><tr><td>4</td><td>3.9641</td><td>0.0046</td><td>0.0313</td><td>null</td><td>2023-03-01 00:00:20.315</td><td>&quot;system.cpu&quot;</td><td>&quot;QASERVER&quot;</td></tr><tr><td>4</td><td>3.939</td><td>0.025</td><td>0.036</td><td>null</td><td>2023-03-01 00:00:21.627</td><td>&quot;system.cpu&quot;</td><td>&quot;PREPRODUCCION&quot;</td></tr><tr><td>&hellip;</td><td>&hellip;</td><td>&hellip;</td><td>&hellip;</td><td>&hellip;</td><td>&hellip;</td><td>&hellip;</td><td>&hellip;</td></tr><tr><td>4</td><td>3.6938</td><td>0.1421</td><td>0.1641</td><td>null</td><td>2023-03-31 23:59:39.419</td><td>&quot;system.cpu&quot;</td><td>&quot;QASERVER&quot;</td></tr><tr><td>16</td><td>15.96</td><td>0.021</td><td>0.019</td><td>0.0</td><td>2023-03-31 23:59:40.459</td><td>&quot;system.cpu&quot;</td><td>&quot;PRUEBAS&quot;</td></tr><tr><td>4</td><td>3.964</td><td>0.0125</td><td>0.0234</td><td>null</td><td>2023-03-31 23:59:41.486</td><td>&quot;system.cpu&quot;</td><td>&quot;DEVELOP&quot;</td></tr><tr><td>8</td><td>7.6804</td><td>0.1653</td><td>0.1543</td><td>null</td><td>2023-03-31 23:59:44.891</td><td>&quot;system.cpu&quot;</td><td>&quot;PRODUCCION&quot;</td></tr><tr><td>4</td><td>3.9859</td><td>0.0016</td><td>0.0125</td><td>null</td><td>2023-03-31 23:59:47.453</td><td>&quot;system.cpu&quot;</td><td>&quot;PREPRODUCCION&quot;</td></tr><tr><td>4</td><td>3.9797</td><td>0.0094</td><td>0.0109</td><td>null</td><td>2023-03-31 23:59:49.431</td><td>&quot;system.cpu&quot;</td><td>&quot;QASERVER&quot;</td></tr><tr><td>16</td><td>15.968</td><td>0.013</td><td>0.018</td><td>0.0</td><td>2023-03-31 23:59:50.459</td><td>&quot;system.cpu&quot;</td><td>&quot;PRUEBAS&quot;</td></tr><tr><td>4</td><td>3.8174</td><td>0.1264</td><td>0.0562</td><td>null</td><td>2023-03-31 23:59:51.497</td><td>&quot;system.cpu&quot;</td><td>&quot;DEVELOP&quot;</td></tr><tr><td>8</td><td>7.8309</td><td>0.0376</td><td>0.1315</td><td>null</td><td>2023-03-31 23:59:54.877</td><td>&quot;system.cpu&quot;</td><td>&quot;PRODUCCION&quot;</td></tr><tr><td>4</td><td>3.8953</td><td>0.0578</td><td>0.0469</td><td>null</td><td>2023-03-31 23:59:57.456</td><td>&quot;system.cpu&quot;</td><td>&quot;PREPRODUCCION&quot;</td></tr><tr><td>4</td><td>3.9076</td><td>0.0611</td><td>0.0313</td><td>null</td><td>2023-03-31 23:59:59.417</td><td>&quot;system.cpu&quot;</td><td>&quot;QASERVER&quot;</td></tr><tr><td>16</td><td>15.8629</td><td>0.1121</td><td>0.024</td><td>0.0</td><td>2023-04-01 00:00:00.459</td><td>&quot;system.cpu&quot;</td><td>&quot;PRUEBAS&quot;</td></tr></tbody></table></div>"
      ],
      "text/plain": [
       "shape: (1_331_490, 8)\n",
       "┌───────────┬────────────┬────────────┬────────────┬────────────┬─────────┬────────────┬───────────┐\n",
       "│ cpu.cores ┆ cpu.idle.p ┆ cpu.user.p ┆ cpu.system ┆ cpu.steal. ┆ timesta ┆ event      ┆ node      │\n",
       "│ ---       ┆ ct         ┆ ct         ┆ .pct       ┆ pct        ┆ mp      ┆ ---        ┆ ---       │\n",
       "│ i64       ┆ ---        ┆ ---        ┆ ---        ┆ ---        ┆ ---     ┆ str        ┆ str       │\n",
       "│           ┆ f64        ┆ f64        ┆ f64        ┆ f64        ┆ datetim ┆            ┆           │\n",
       "│           ┆            ┆            ┆            ┆            ┆ e[μs]   ┆            ┆           │\n",
       "╞═══════════╪════════════╪════════════╪════════════╪════════════╪═════════╪════════════╪═══════════╡\n",
       "│ 4         ┆ 3.9391     ┆ 0.0203     ┆ 0.0406     ┆ null       ┆ 2023-03 ┆ system.cpu ┆ QASERVER  │\n",
       "│           ┆            ┆            ┆            ┆            ┆ -01 00: ┆            ┆           │\n",
       "│           ┆            ┆            ┆            ┆            ┆ 00:00.3 ┆            ┆           │\n",
       "│           ┆            ┆            ┆            ┆            ┆ 03      ┆            ┆           │\n",
       "│ 4         ┆ 3.9626     ┆ 0.014      ┆ 0.0234     ┆ null       ┆ 2023-03 ┆ system.cpu ┆ PREPRODUC │\n",
       "│           ┆            ┆            ┆            ┆            ┆ -01 00: ┆            ┆ CION      │\n",
       "│           ┆            ┆            ┆            ┆            ┆ 00:01.6 ┆            ┆           │\n",
       "│           ┆            ┆            ┆            ┆            ┆ 29      ┆            ┆           │\n",
       "│ 16        ┆ 15.873     ┆ 0.094      ┆ 0.032      ┆ 0.0        ┆ 2023-03 ┆ system.cpu ┆ PRUEBAS   │\n",
       "│           ┆            ┆            ┆            ┆            ┆ -01 00: ┆            ┆           │\n",
       "│           ┆            ┆            ┆            ┆            ┆ 00:05.9 ┆            ┆           │\n",
       "│           ┆            ┆            ┆            ┆            ┆ 06      ┆            ┆           │\n",
       "│ 8         ┆ 7.7042     ┆ 0.1018     ┆ 0.194      ┆ null       ┆ 2023-03 ┆ system.cpu ┆ PRODUCCIO │\n",
       "│           ┆            ┆            ┆            ┆            ┆ -01 00: ┆            ┆ N         │\n",
       "│           ┆            ┆            ┆            ┆            ┆ 00:07.8 ┆            ┆           │\n",
       "│           ┆            ┆            ┆            ┆            ┆ 08      ┆            ┆           │\n",
       "│ …         ┆ …          ┆ …          ┆ …          ┆ …          ┆ …       ┆ …          ┆ …         │\n",
       "│ 8         ┆ 7.8309     ┆ 0.0376     ┆ 0.1315     ┆ null       ┆ 2023-03 ┆ system.cpu ┆ PRODUCCIO │\n",
       "│           ┆            ┆            ┆            ┆            ┆ -31 23: ┆            ┆ N         │\n",
       "│           ┆            ┆            ┆            ┆            ┆ 59:54.8 ┆            ┆           │\n",
       "│           ┆            ┆            ┆            ┆            ┆ 77      ┆            ┆           │\n",
       "│ 4         ┆ 3.8953     ┆ 0.0578     ┆ 0.0469     ┆ null       ┆ 2023-03 ┆ system.cpu ┆ PREPRODUC │\n",
       "│           ┆            ┆            ┆            ┆            ┆ -31 23: ┆            ┆ CION      │\n",
       "│           ┆            ┆            ┆            ┆            ┆ 59:57.4 ┆            ┆           │\n",
       "│           ┆            ┆            ┆            ┆            ┆ 56      ┆            ┆           │\n",
       "│ 4         ┆ 3.9076     ┆ 0.0611     ┆ 0.0313     ┆ null       ┆ 2023-03 ┆ system.cpu ┆ QASERVER  │\n",
       "│           ┆            ┆            ┆            ┆            ┆ -31 23: ┆            ┆           │\n",
       "│           ┆            ┆            ┆            ┆            ┆ 59:59.4 ┆            ┆           │\n",
       "│           ┆            ┆            ┆            ┆            ┆ 17      ┆            ┆           │\n",
       "│ 16        ┆ 15.8629    ┆ 0.1121     ┆ 0.024      ┆ 0.0        ┆ 2023-04 ┆ system.cpu ┆ PRUEBAS   │\n",
       "│           ┆            ┆            ┆            ┆            ┆ -01 00: ┆            ┆           │\n",
       "│           ┆            ┆            ┆            ┆            ┆ 00:00.4 ┆            ┆           │\n",
       "│           ┆            ┆            ┆            ┆            ┆ 59      ┆            ┆           │\n",
       "└───────────┴────────────┴────────────┴────────────┴────────────┴─────────┴────────────┴───────────┘"
      ]
     },
     "execution_count": 137,
     "metadata": {},
     "output_type": "execute_result"
    }
   ],
   "source": [
    "cpu.sort(pl.col('timestamp'))"
   ]
  }
 ],
 "metadata": {
  "kernelspec": {
   "display_name": "Python 3",
   "language": "python",
   "name": "python3"
  },
  "language_info": {
   "codemirror_mode": {
    "name": "ipython",
    "version": 3
   },
   "file_extension": ".py",
   "mimetype": "text/x-python",
   "name": "python",
   "nbconvert_exporter": "python",
   "pygments_lexer": "ipython3",
   "version": "3.10.11"
  },
  "orig_nbformat": 4
 },
 "nbformat": 4,
 "nbformat_minor": 2
}
