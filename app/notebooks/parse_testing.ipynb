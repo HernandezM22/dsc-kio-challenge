{
 "cells": [
  {
   "cell_type": "code",
   "execution_count": null,
   "metadata": {},
   "outputs": [],
   "source": [
    "import pandas as pd\n",
    "import ast"
   ]
  },
  {
   "cell_type": "code",
   "execution_count": null,
   "metadata": {},
   "outputs": [],
   "source": [
    "df = pd.read_csv(\"/home/mauricio/repos/dsc-kio-challenge/app/data/metricbeabt-so-28042023.csv\")\n",
    "nulls = df[df[\"system\"].isna()].reset_index(drop=True)\n",
    "df = df[df[\"system\"].notna()]\n",
    "df = df.reset_index(drop=True)"
   ]
  },
  {
   "cell_type": "code",
   "execution_count": null,
   "metadata": {},
   "outputs": [],
   "source": [
    "nulls"
   ]
  },
  {
   "cell_type": "code",
   "execution_count": null,
   "metadata": {},
   "outputs": [],
   "source": [
    "df"
   ]
  },
  {
   "cell_type": "code",
   "execution_count": null,
   "metadata": {},
   "outputs": [],
   "source": [
    "null_events = pd.json_normalize(nulls[\"event\"].apply(ast.literal_eval), max_level=1)\n",
    "null_server = pd.json_normalize(nulls[\"host\"].apply(ast.literal_eval), max_level=1)\n",
    "nulls[\"event\"] = null_events[\"dataset\"]\n",
    "nulls[\"host\"] = null_server[\"name\"]\n",
    "nulls = nulls[[\"@timestamp\", \"event\", \"host\"]]"
   ]
  },
  {
   "cell_type": "code",
   "execution_count": null,
   "metadata": {},
   "outputs": [],
   "source": [
    "nulls"
   ]
  },
  {
   "cell_type": "code",
   "execution_count": null,
   "metadata": {},
   "outputs": [],
   "source": [
    "events = pd.json_normalize(df[\"event\"].apply(ast.literal_eval), max_level=1)"
   ]
  },
  {
   "cell_type": "code",
   "execution_count": null,
   "metadata": {},
   "outputs": [],
   "source": [
    "events"
   ]
  },
  {
   "cell_type": "code",
   "execution_count": null,
   "metadata": {},
   "outputs": [],
   "source": [
    "server = pd.json_normalize(df[\"host\"].apply(ast.literal_eval), max_level=1)"
   ]
  },
  {
   "cell_type": "code",
   "execution_count": null,
   "metadata": {},
   "outputs": [],
   "source": [
    "df[\"event\"] = events[\"dataset\"]\n",
    "df"
   ]
  },
  {
   "cell_type": "code",
   "execution_count": null,
   "metadata": {},
   "outputs": [],
   "source": [
    "df[\"host\"] = server[\"name\"]\n",
    "df"
   ]
  },
  {
   "cell_type": "code",
   "execution_count": null,
   "metadata": {},
   "outputs": [],
   "source": [
    "cpu = df[df[\"event\"]==\"system.cpu\"].reset_index(drop=True)\n",
    "cpu"
   ]
  },
  {
   "cell_type": "code",
   "execution_count": null,
   "metadata": {},
   "outputs": [],
   "source": [
    "memory = df[df[\"event\"]==\"system.memory\"].reset_index(drop=True)\n",
    "memory"
   ]
  },
  {
   "cell_type": "code",
   "execution_count": null,
   "metadata": {},
   "outputs": [],
   "source": [
    "network = df[df[\"event\"]==\"system.network\"].reset_index(drop=True)\n",
    "network"
   ]
  },
  {
   "cell_type": "code",
   "execution_count": null,
   "metadata": {},
   "outputs": [],
   "source": [
    "longest_net = max(network[\"system\"], key=len)\n",
    "longest_cpu = max(cpu[\"system\"], key=len)\n",
    "longest_mem = max(memory[\"system\"], key=len)"
   ]
  },
  {
   "cell_type": "code",
   "execution_count": null,
   "metadata": {},
   "outputs": [],
   "source": [
    "print(longest_net)\n",
    "print(longest_cpu)\n",
    "print(longest_mem)"
   ]
  },
  {
   "cell_type": "code",
   "execution_count": null,
   "metadata": {},
   "outputs": [],
   "source": [
    "network_metrics = pd.json_normalize(network[\"system\"].apply(ast.literal_eval), max_level=4)\n",
    "cpu_metrics = pd.json_normalize(cpu[\"system\"].apply(ast.literal_eval), max_level=4)\n",
    "memory_metrics = pd.json_normalize(memory[\"system\"].apply(ast.literal_eval), max_level=4)"
   ]
  },
  {
   "cell_type": "code",
   "execution_count": null,
   "metadata": {},
   "outputs": [],
   "source": [
    "network_metrics"
   ]
  },
  {
   "cell_type": "code",
   "execution_count": null,
   "metadata": {},
   "outputs": [],
   "source": [
    "network"
   ]
  },
  {
   "cell_type": "code",
   "execution_count": null,
   "metadata": {},
   "outputs": [],
   "source": [
    "cpu_metrics"
   ]
  },
  {
   "cell_type": "code",
   "execution_count": null,
   "metadata": {},
   "outputs": [],
   "source": [
    "memory_metrics"
   ]
  },
  {
   "cell_type": "code",
   "execution_count": null,
   "metadata": {},
   "outputs": [],
   "source": [
    "memory_metrics[\"timestamp\"] = memory[\"@timestamp\"]\n",
    "memory_metrics[\"event\"] = memory[\"event\"]\n",
    "memory_metrics[\"node\"] = memory[\"host\"]"
   ]
  },
  {
   "cell_type": "code",
   "execution_count": null,
   "metadata": {},
   "outputs": [],
   "source": [
    "cpu_metrics[\"timestamp\"] = cpu[\"@timestamp\"]\n",
    "cpu_metrics[\"event\"] = cpu[\"event\"]\n",
    "cpu_metrics[\"node\"] = cpu[\"host\"]"
   ]
  },
  {
   "cell_type": "code",
   "execution_count": null,
   "metadata": {},
   "outputs": [],
   "source": [
    "network_metrics[\"timestamp\"] = network[\"@timestamp\"]\n",
    "network_metrics[\"event\"] = network[\"event\"]\n",
    "network_metrics[\"node\"] = network[\"host\"]"
   ]
  },
  {
   "cell_type": "code",
   "execution_count": null,
   "metadata": {},
   "outputs": [],
   "source": [
    "memory_metrics"
   ]
  },
  {
   "cell_type": "code",
   "execution_count": null,
   "metadata": {},
   "outputs": [],
   "source": [
    "cpu_metrics"
   ]
  },
  {
   "cell_type": "code",
   "execution_count": null,
   "metadata": {},
   "outputs": [],
   "source": [
    "network_metrics"
   ]
  },
  {
   "cell_type": "code",
   "execution_count": null,
   "metadata": {},
   "outputs": [],
   "source": [
    "network_metrics.to_pickle(\"/home/mauricio/repos/dsc-kio-challenge/app/data/network.pkl\")\n",
    "memory_metrics.to_pickle(\"/home/mauricio/repos/dsc-kio-challenge/app/data/memory.pkl\")\n",
    "cpu_metrics.to_pickle(\"/home/mauricio/repos/dsc-kio-challenge/app/data/cpu.pkl\")"
   ]
  },
  {
   "cell_type": "code",
   "execution_count": null,
   "metadata": {},
   "outputs": [],
   "source": [
    "nulls_network = nulls[nulls[\"event\"] == \"system.network\"].reset_index(drop=True)\n",
    "nulls_cpu = nulls[nulls[\"event\"] == \"system.cpu\"].reset_index(drop=True)\n",
    "nulls_memory = nulls[nulls[\"event\"] == \"system.memory\"].reset_index(drop=True)"
   ]
  },
  {
   "cell_type": "code",
   "execution_count": null,
   "metadata": {},
   "outputs": [],
   "source": [
    "nulls_network.to_pickle(\"/home/mauricio/repos/dsc-kio-challenge/app/data/nulls_network.pkl\")\n",
    "nulls_cpu.to_pickle(\"/home/mauricio/repos/dsc-kio-challenge/app/data/nulls_cpu.pkl\")\n",
    "nulls_memory.to_pickle(\"/home/mauricio/repos/dsc-kio-challenge/app/data/nulls_memory.pkl\")"
   ]
  },
  {
   "cell_type": "code",
   "execution_count": null,
   "metadata": {},
   "outputs": [],
   "source": [
    "nulls_cpu"
   ]
  },
  {
   "cell_type": "code",
   "execution_count": null,
   "metadata": {},
   "outputs": [],
   "source": [
    "nulls_memory"
   ]
  },
  {
   "cell_type": "code",
   "execution_count": null,
   "metadata": {},
   "outputs": [],
   "source": [
    "nulls_network"
   ]
  },
  {
   "cell_type": "code",
   "execution_count": null,
   "metadata": {},
   "outputs": [],
   "source": []
  }
 ],
 "metadata": {
  "kernelspec": {
   "display_name": "Python 3",
   "language": "python",
   "name": "python3"
  },
  "language_info": {
   "codemirror_mode": {
    "name": "ipython",
    "version": 3
   },
   "file_extension": ".py",
   "mimetype": "text/x-python",
   "name": "python",
   "nbconvert_exporter": "python",
   "pygments_lexer": "ipython3",
   "version": "3.8.10"
  },
  "orig_nbformat": 4
 },
 "nbformat": 4,
 "nbformat_minor": 2
}
